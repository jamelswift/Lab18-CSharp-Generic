{
 "cells": [
  {
   "cell_type": "markdown",
   "metadata": {
    "polyglot_notebook": {
     "kernelName": "csharp"
    }
   },
   "source": [
    "# Lab 18 Exercise 8\n",
    "\n"
   ]
  },
  {
   "cell_type": "markdown",
   "metadata": {},
   "source": [
    "## Generic queue\n",
    "\n"
   ]
  },
  {
   "cell_type": "markdown",
   "metadata": {},
   "source": [
    "1.สร้าง console application project\n",
    "\n",
    "```cmd\n",
    "dotnet new console --name Lab18_Ex08\n",
    "```\n",
    "\n"
   ]
  },
  {
   "cell_type": "markdown",
   "metadata": {},
   "source": [
    "2.เปลี่ยน code ให้เป็นดังต่อไปนี้\n",
    "\n",
    "```csharp\n",
    "using System;\n",
    "using System.Collections.Generic;\n",
    "\n",
    "Queue<int> numbers = new Queue<int>();\n",
    "\n",
    "System.Console.WriteLine(\"Add 3 elements (5, 10, 15)\");\n",
    "numbers.Enqueue(5); \n",
    "numbers.Enqueue(10); \n",
    "numbers.Enqueue(15);\n",
    "\n",
    "System.Console.WriteLine(\"Items in queue:\");\n",
    "foreach (var item in numbers)\n",
    "{\n",
    "    System.Console.WriteLine(item);\n",
    "}\n",
    "\n",
    "System.Console.Write(\"Remove first item in queue : \");\n",
    "var removeItem = numbers.Dequeue();\n",
    "System.Console.WriteLine(removeItem);\n",
    "\n",
    "System.Console.WriteLine(\"Remaining items in queue:\");\n",
    "foreach (var item in numbers)\n",
    "{\n",
    "    System.Console.WriteLine(item);\n",
    "}\n",
    "```\n",
    "\n"
   ]
  },
  {
   "cell_type": "markdown",
   "metadata": {},
   "source": [
    "3.Build project โดยการใช้คำสั่ง\n",
    "\n",
    "```cmd\n",
    "dotnet build  Lab18_Ex08\n",
    "```\n",
    "\n",
    "ถ้ามีที่ผิดพลาดในโปรแกรม ให้แก้ไขให้ถูกต้อง\n",
    "\n"
   ]
  },
  {
   "cell_type": "markdown",
   "metadata": {},
   "source": [
    "4.บันทึกผลที่ได้จากการรันคำสั่งในข้อ 3\n",
    "\n"
   ]
  },
  {
   "attachments": {
    "image.png": {
     "image/png": "[encoded data removed]"
    }
   },
   "cell_type": "markdown",
   "metadata": {},
   "source": [
    "![image.png](attachment:image.png)"
   ]
  },
  {
   "cell_type": "markdown",
   "metadata": {},
   "source": [
    "5.Run project โดยการใช้คำสั่ง\n",
    "\n",
    "```cmd\n",
    "dotnet run --project Lab18_Ex08\n",
    "```\n",
    "\n"
   ]
  },
  {
   "cell_type": "markdown",
   "metadata": {},
   "source": [
    "6.บันทึกผลที่ได้จากการรันคำสั่งในข้อ 5\n",
    "\n"
   ]
  },
  {
   "attachments": {
    "image.png": {
     "image/png": "[encoded data removed]"
    }
   },
   "cell_type": "markdown",
   "metadata": {},
   "source": [
    "![image.png](attachment:image.png)"
   ]
  },
  {
   "cell_type": "markdown",
   "metadata": {},
   "source": [
    "7.อธิบายสิ่งที่พบในการทดลอง\n"
   ]
  },
  {
   "cell_type": "markdown",
   "metadata": {},
   "source": [
    "สรุป\n",
    "- การทดลองนี้แสดงให้เห็นการทำงานพื้นฐานของ Queue<T> ใน C# ซึ่งช่วยให้จัดเก็บข้อมูลและจัดการข้อมูลตามลำดับเวลา (FIFO) ได้อย่างมีประสิทธิภาพ โดยการเพิ่ม (Enqueue) และลบ (Dequeue) ข้อมูลจากคิวสามารถทำได้ง่ายดาย."
   ]
  }
 ],
 "metadata": {
  "kernelspec": {
   "display_name": ".NET (C#)",
   "language": "C#",
   "name": ".net-csharp"
  },
  "polyglot_notebook": {
   "kernelInfo": {
    "defaultKernelName": "csharp",
    "items": [
     {
      "aliases": [],
      "languageName": "csharp",
      "name": "csharp"
     }
    ]
   }
  }
 },
 "nbformat": 4,
 "nbformat_minor": 2
}
