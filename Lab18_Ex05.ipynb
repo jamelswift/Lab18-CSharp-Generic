{
 "cells": [
  {
   "cell_type": "markdown",
   "metadata": {
    "polyglot_notebook": {
     "kernelName": "csharp"
    }
   },
   "source": [
    "# Lab 18 Exercise 5\n",
    "\n"
   ]
  },
  {
   "cell_type": "markdown",
   "metadata": {},
   "source": [
    "## Generic static method\n",
    "\n"
   ]
  },
  {
   "cell_type": "markdown",
   "metadata": {},
   "source": [
    "1.สร้าง console application project\n",
    "\n",
    "```cmd\n",
    "dotnet new console --name Lab18_Ex05\n",
    "```\n",
    "\n"
   ]
  },
  {
   "cell_type": "markdown",
   "metadata": {},
   "source": [
    "2.เปลี่ยน code ให้เป็นดังต่อไปนี้\n",
    "\n",
    "```csharp\n",
    "// Generic static method\n",
    "\n",
    "int a = 20, b = 30;\n",
    "System.Console.WriteLine($\"Before Swap: a = {a}, b = {b}\");\n",
    "Swap<int>(ref a, ref b);\n",
    "System.Console.WriteLine($\"After Swap:  a = {a}, b = {b}\");\n",
    "\n",
    "string h = \"Hello\", w = \"World\";\n",
    "System.Console.WriteLine($\"Before Swap: h = {h}, w = {w}\");\n",
    "Swap<string>(ref h, ref w);\n",
    "System.Console.WriteLine($\"After Swap:  h = {h}, w = {w}\");\n",
    "\n",
    "static void Swap<T>(ref T a, ref T b)\n",
    "{\n",
    "    T temp;\n",
    "    temp = a;\n",
    "    a = b;\n",
    "    b = temp;\n",
    "}\n",
    "```\n",
    "\n"
   ]
  },
  {
   "cell_type": "markdown",
   "metadata": {},
   "source": [
    "3.Build project โดยการใช้คำสั่ง\n",
    "\n",
    "```cmd\n",
    "dotnet build  Lab18_Ex05\n",
    "```\n",
    "\n",
    "ถ้ามีที่ผิดพลาดในโปรแกรม ให้แก้ไขให้ถูกต้อง\n",
    "\n"
   ]
  },
  {
   "cell_type": "markdown",
   "metadata": {},
   "source": [
    "4.บันทึกผลที่ได้จากการรันคำสั่งในข้อ 3\n",
    "\n"
   ]
  },
  {
   "attachments": {
    "image.png": {
     "image/png": "[encoded data removed]"
    }
   },
   "cell_type": "markdown",
   "metadata": {},
   "source": [
    "![image.png](attachment:image.png)"
   ]
  },
  {
   "cell_type": "markdown",
   "metadata": {},
   "source": [
    "5.Run project โดยการใช้คำสั่ง\n",
    "\n",
    "```cmd\n",
    "dotnet run --project Lab18_Ex05\n",
    "```\n",
    "\n"
   ]
  },
  {
   "cell_type": "markdown",
   "metadata": {},
   "source": [
    "6.บันทึกผลที่ได้จากการรันคำสั่งในข้อ 5\n",
    "\n"
   ]
  },
  {
   "attachments": {
    "image.png": {
     "image/png": "[encoded data removed]"
    }
   },
   "cell_type": "markdown",
   "metadata": {},
   "source": [
    "![image.png](attachment:image.png)"
   ]
  },
  {
   "cell_type": "markdown",
   "metadata": {},
   "source": [
    "7.อธิบายสิ่งที่พบในการทดลอง\n"
   ]
  },
  {
   "cell_type": "markdown",
   "metadata": {},
   "source": [
    "สรุป\n",
    "- การทดลองนี้แสดงให้เห็นถึงความสามารถของ Generic Static Method ที่สามารถทำงานกับข้อมูลชนิดต่าง ๆ ได้อย่างยืดหยุ่นและปลอดภัยทางด้านชนิดข้อมูล (type safety) โดยใช้ ref ในการส่งผ่านอ้างอิงและทำการสลับค่าของตัวแปร ซึ่งทำให้โค้ดมีความยืดหยุ่นและสามารถนำกลับมาใช้ซ้ำได้ในหลายบริบท."
   ]
  }
 ],
 "metadata": {
  "kernelspec": {
   "display_name": ".NET (C#)",
   "language": "C#",
   "name": ".net-csharp"
  },
  "polyglot_notebook": {
   "kernelInfo": {
    "defaultKernelName": "csharp",
    "items": [
     {
      "aliases": [],
      "languageName": "csharp",
      "name": "csharp"
     }
    ]
   }
  }
 },
 "nbformat": 4,
 "nbformat_minor": 2
}
