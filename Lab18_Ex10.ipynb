{
 "cells": [
  {
   "cell_type": "markdown",
   "metadata": {
    "polyglot_notebook": {
     "kernelName": "csharp"
    }
   },
   "source": [
    "# Lab 18 Exercise 10\n",
    "\n"
   ]
  },
  {
   "cell_type": "markdown",
   "metadata": {},
   "source": [
    "## Generic stack\n",
    "\n"
   ]
  },
  {
   "cell_type": "markdown",
   "metadata": {},
   "source": [
    "1.สร้าง console application project\n",
    "\n",
    "```cmd\n",
    "dotnet new console --name Lab18_Ex10\n",
    "```\n",
    "\n"
   ]
  },
  {
   "cell_type": "markdown",
   "metadata": {},
   "source": [
    "2.เปลี่ยน code ให้เป็นดังต่อไปนี้\n",
    "\n",
    "```csharp\n",
    "using System;\n",
    "using System.Collections.Generic;\n",
    "\n",
    "Stack<string> planets = new Stack<string>();\n",
    "\n",
    "System.Console.WriteLine(\"Push planets (Mercury to Pluto) into stack\");\n",
    "planets.Push(\"Mercury\");\n",
    "planets.Push(\"Venus\");\n",
    "planets.Push(\"Earth\");\n",
    "planets.Push(\"Mars\");\n",
    "planets.Push(\"Jupiter\");\n",
    "planets.Push(\"Saturn\");\n",
    "planets.Push(\"Uranus\");\n",
    "planets.Push(\"Neptune\");\n",
    "planets.Push(\"Pluto\");\n",
    "\n",
    "System.Console.WriteLine(\"Items in stack:\");\n",
    "foreach (var item in planets)\n",
    "{\n",
    "    System.Console.WriteLine(item);\n",
    "}\n",
    "\n",
    "System.Console.Write(\"Remove first item in queue : \");\n",
    "var popItem = planets.Pop();\n",
    "System.Console.WriteLine(popItem);\n",
    "\n",
    "System.Console.WriteLine(\"Remaining items in queue:\");\n",
    "foreach (var item in planets)\n",
    "{\n",
    "    System.Console.WriteLine(item);\n",
    "}\n",
    "```\n",
    "\n"
   ]
  },
  {
   "cell_type": "markdown",
   "metadata": {},
   "source": [
    "3.Build project โดยการใช้คำสั่ง\n",
    "\n",
    "```cmd\n",
    "dotnet build  Lab18_Ex10\n",
    "```\n",
    "\n",
    "ถ้ามีที่ผิดพลาดในโปรแกรม ให้แก้ไขให้ถูกต้อง\n",
    "\n"
   ]
  },
  {
   "cell_type": "markdown",
   "metadata": {},
   "source": [
    "4.บันทึกผลที่ได้จากการรันคำสั่งในข้อ 3\n",
    "\n"
   ]
  },
  {
   "attachments": {
    "image.png": {
     "image/png": "[encoded data removed]"
    }
   },
   "cell_type": "markdown",
   "metadata": {},
   "source": [
    "![image.png](attachment:image.png)"
   ]
  },
  {
   "cell_type": "markdown",
   "metadata": {},
   "source": [
    "5.Run project โดยการใช้คำสั่ง\n",
    "\n",
    "```cmd\n",
    "dotnet run --project Lab18_Ex10\n",
    "```\n",
    "\n"
   ]
  },
  {
   "cell_type": "markdown",
   "metadata": {},
   "source": [
    "6.บันทึกผลที่ได้จากการรันคำสั่งในข้อ 5\n",
    "\n"
   ]
  },
  {
   "attachments": {
    "image.png": {
     "image/png": "[encoded data removed]"
    }
   },
   "cell_type": "markdown",
   "metadata": {},
   "source": [
    "![image.png](attachment:image.png)"
   ]
  },
  {
   "cell_type": "markdown",
   "metadata": {},
   "source": [
    "7.อธิบายสิ่งที่พบในการทดลอง\n"
   ]
  },
  {
   "cell_type": "markdown",
   "metadata": {},
   "source": [
    "สรุป\n",
    "- การใช้ Stack ในที่นี้แสดงให้เห็นถึงการทำงานแบบ LIFO (Last-In, First-Out) ซึ่งหมายความว่าข้อมูลที่ถูกเพิ่มเข้ามาล่าสุด (Pluto) จะถูกลบออกก่อน\n",
    "- หลังจากทำการ Pop() ข้อมูลบนสุด (\"Pluto\") ออกไปแล้ว ข้อมูลที่เหลือใน stack จะแสดงตามลำดับจากตัวที่ถูกเพิ่มเข้ามาล่าสุดไปจนถึงตัวที่ถูกเพิ่มเข้ามาก่อนหน้า\n",
    "- Stack เหมาะสำหรับการจัดการข้อมูลที่ต้องการประมวลผลแบบย้อนกลับ เช่น การดำเนินการใน reverse order หรือในการใช้งานที่ต้องการการเรียกคืนข้อมูลในลำดับตรงข้ามกับการเพิ่มข้อมูล"
   ]
  }
 ],
 "metadata": {
  "kernelspec": {
   "display_name": ".NET (C#)",
   "language": "C#",
   "name": ".net-csharp"
  },
  "polyglot_notebook": {
   "kernelInfo": {
    "defaultKernelName": "csharp",
    "items": [
     {
      "aliases": [],
      "languageName": "csharp",
      "name": "csharp"
     }
    ]
   }
  }
 },
 "nbformat": 4,
 "nbformat_minor": 2
}
